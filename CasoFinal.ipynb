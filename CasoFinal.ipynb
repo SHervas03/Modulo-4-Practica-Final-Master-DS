{
 "cells": [
  {
   "cell_type": "markdown",
   "metadata": {},
   "source": [
    "# Practica Final\n",
    "Modulo 4 - Máster Data Science y Business Analytics\n",
    "Sergio Hervás Aragón"
   ]
  },
  {
   "cell_type": "markdown",
   "metadata": {},
   "source": [
    "### Importaciones"
   ]
  },
  {
   "cell_type": "code",
   "execution_count": 53,
   "metadata": {},
   "outputs": [],
   "source": [
    "import pandas as pd\n",
    "import sys"
   ]
  },
  {
   "cell_type": "markdown",
   "metadata": {},
   "source": [
    "### Lectura de datos"
   ]
  },
  {
   "cell_type": "code",
   "execution_count": 54,
   "metadata": {},
   "outputs": [],
   "source": [
    "def read_csv(file):\n",
    "    # Declaración de una variable, la que se encargara de guardar nuestros registros\n",
    "    df = []\n",
    "    try:\n",
    "        # Lectura de nuestro fichero\n",
    "        df = pd.read_csv(file, sep=';')\n",
    "    except FileNotFoundError:\n",
    "        # Excepción en caso de no ser el archivo encontrado por la ruta ofrecida\n",
    "        print('Error: Archivo no encontrado')\n",
    "        # Finalizador de programa en caso de saltar la excepción\n",
    "        sys.exit(1)\n",
    "    except pd.errors.ParserError:\n",
    "        # Excepción en caso de tener mal indicado el separador a usar\n",
    "        print('Error: Archivo erroneamente parseado')\n",
    "        # Finalizador de programa en caso de saltar la excepción\n",
    "        sys.exit(1)\n",
    "    except Exception as e:\n",
    "        # Excepción genérica en caso de que haya otro problema\n",
    "        print(f'Error: {e}')\n",
    "        sys.exit(1)\n",
    "    finally:\n",
    "        print('Proceso de lectura finalizado')\n",
    "    return df"
   ]
  },
  {
   "cell_type": "markdown",
   "metadata": {},
   "source": [
    "### Analisis exploratorio"
   ]
  },
  {
   "cell_type": "code",
   "execution_count": 55,
   "metadata": {},
   "outputs": [],
   "source": [
    "def count_off_nulls(df):\n",
    "    print('\\nConteo de nulos por columnas:')\n",
    "    # Variable que nos servira para verificar si hay o no valores nulos\n",
    "    null_validator = True\n",
    "    # Bucle donde se recorren las columnas una a una\n",
    "    for column in df.columns:\n",
    "        null_count = df[column].isnull().sum()\n",
    "        # Si existen nulos, imprimir el resultaso de la columna con nulos\n",
    "        if null_count != 0:\n",
    "            null_validator = False\n",
    "            print(f' - {column} | tiene {null_count} nulos')\n",
    "    # Comprobador de valores nulos final\n",
    "    if not null_validator:\n",
    "        print('\\nHay valores nulos en el DataFrame')\n",
    "        null_validator = True\n",
    "    else:\n",
    "        print(' - No hay nulos en el DataFrame')"
   ]
  },
  {
   "cell_type": "code",
   "execution_count": 56,
   "metadata": {},
   "outputs": [],
   "source": [
    "def replace_null_with_zero(df):\n",
    "    print('\\nReemplazo de NULL´s por 0')\n",
    "    # Reemplazo de valores nulos por 0\n",
    "    df.fillna(0, inplace=True)"
   ]
  },
  {
   "cell_type": "code",
   "execution_count": 57,
   "metadata": {},
   "outputs": [],
   "source": [
    "def column_type_display(df):\n",
    "    print(f'\\ndtypes de las columnas: \\n{df.dtypes}')"
   ]
  },
  {
   "cell_type": "code",
   "execution_count": 58,
   "metadata": {},
   "outputs": [],
   "source": [
    "def column_parsing(df):\n",
    "    # pd.options.display.float_format = '{:.3f}'.format\n",
    "    for column in df.columns:\n",
    "        if df[column].dtypes == 'object':\n",
    "            try:\n",
    "                df[column] = df[column].astype('float64')\n",
    "            except ValueError:\n",
    "                df[column] = df[column].str.replace(',','')\n",
    "                try:\n",
    "                    df[column] = df[column].astype('float64')\n",
    "                except ValueError:\n",
    "                    df[column] = df[column].str.replace('.','')\n",
    "                    try:\n",
    "                        df[column] = df[column].astype('float64')\n",
    "                    except ValueError:\n",
    "                        print('Hay columnas que no pueden ser parseadas')\n",
    "    print(\"\\nProceso de parseo finalizado\")\n"
   ]
  },
  {
   "cell_type": "code",
   "execution_count": 59,
   "metadata": {},
   "outputs": [
    {
     "name": "stdout",
     "output_type": "stream",
     "text": [
      "Proceso de lectura finalizado\n",
      "\n",
      "Conteo de nulos por columnas:\n",
      " - MB_TOTALES | tiene 259 nulos\n",
      " - FACTURACION_TOTAL_IMPUESTOS | tiene 76 nulos\n",
      " - FACTURACION_CUOTA | tiene 76 nulos\n",
      " - SEGUNDOS_LLAMADA_RED_PROPIA | tiene 157 nulos\n",
      " - SEGUNDOS_LLAMADA_SALIENTE_RED_PROPIA | tiene 157 nulos\n",
      " - SEGUNDOS_LLAMADA_ENTRANTE_RED_PROPIA | tiene 157 nulos\n",
      " - MB_MENSUALES | tiene 251 nulos\n",
      " - EDAD | tiene 29 nulos\n",
      " - NUM_LLAMADAS_RED_PROPIA | tiene 157 nulos\n",
      " - FACTURACION_TOTAL_SIN_IMPUESTOS | tiene 76 nulos\n",
      " - LLAMADAS_MOVILES | tiene 82 nulos\n",
      " - TERMINO_FACTURACION | tiene 76 nulos\n",
      " - NUM_DIAS_ACTIVO | tiene 550 nulos\n",
      " - MINUTOS_LLAMADAS_MENSUALES | tiene 251 nulos\n",
      " - KPI_IMPUESTOS | tiene 76 nulos\n",
      " - PORCENTAJE_SEGUNDOS_RED_PROPIA | tiene 263 nulos\n",
      " - MINUTOS_LLAMADAS_MOVIL | tiene 82 nulos\n",
      " - PENETRACION_FIJO_ZONA | tiene 1323 nulos\n",
      "\n",
      "Hay valores nulos en el DataFrame\n",
      "\n",
      "Reemplazo de NULL´s por 0\n",
      "\n",
      "Conteo de nulos por columnas:\n",
      " - No hay nulos en el DataFrame\n",
      "\n",
      "dtypes de las columnas: \n",
      "MES                                       int64\n",
      "MB_TOTALES                               object\n",
      "FACTURACION_TOTAL_IMPUESTOS              object\n",
      "FACTURACION_CUOTA                        object\n",
      "SEGUNDOS_LLAMADA_RED_PROPIA             float64\n",
      "SEGUNDOS_LLAMADA_SALIENTE_RED_PROPIA    float64\n",
      "SEGUNDOS_LLAMADA_ENTRANTE_RED_PROPIA    float64\n",
      "MB_MENSUALES                             object\n",
      "EDAD                                    float64\n",
      "NUM_LLAMADAS_RED_PROPIA                 float64\n",
      "FACTURACION_TOTAL_SIN_IMPUESTOS          object\n",
      "NUM_LINEAS_PRIN_POSPAGO                   int64\n",
      "NUM_LINEAS_POSPAGO                        int64\n",
      "NUM_LINEAS_FIJAS                          int64\n",
      "NUM_DIAS_CONVERGENTE                      int64\n",
      "NUM_LINEAS_FIJAS_POSPAGO                  int64\n",
      "NUM_SERVICIOS_POSPAGO                     int64\n",
      "DIAS_PRIMERA_CUENTA                       int64\n",
      "NUM_CANCELACIONES                         int64\n",
      "LLAMADAS_MOVILES                        float64\n",
      "NUM_LINEAS_POSPAGO_TOTAL                  int64\n",
      "TERMINO_FACTURACION                      object\n",
      "NUM_DESACTIVACIONES_FIJAS_POSPAGO         int64\n",
      "NUM_DESACTIVACIONES_FIJAS                 int64\n",
      "NUM_LINEAS_TECNOLOGIA_DESCONOCIDA         int64\n",
      "NUM_DIAS_ACTIVO                         float64\n",
      "MINUTOS_LLAMADAS_MENSUALES               object\n",
      "NUM_DIAS_BUNDLE                           int64\n",
      "KPI_IMPUESTOS                            object\n",
      "NUM_DESACTIVACIONES                       int64\n",
      "PORCENTAJE_SEGUNDOS_RED_PROPIA           object\n",
      "SERVICIOS_TOTALES_MARCA                   int64\n",
      "SERVICIOS_TOTALES_POSPAGO                 int64\n",
      "MINUTOS_LLAMADAS_MOVIL                   object\n",
      "PENETRACION_FIJO_ZONA                   float64\n",
      "TARGET                                    int64\n",
      "dtype: object\n",
      "\n",
      "Proceso de parseo finalizado\n",
      "\n",
      "dtypes de las columnas: \n",
      "MES                                       int64\n",
      "MB_TOTALES                              float64\n",
      "FACTURACION_TOTAL_IMPUESTOS             float64\n",
      "FACTURACION_CUOTA                       float64\n",
      "SEGUNDOS_LLAMADA_RED_PROPIA             float64\n",
      "SEGUNDOS_LLAMADA_SALIENTE_RED_PROPIA    float64\n",
      "SEGUNDOS_LLAMADA_ENTRANTE_RED_PROPIA    float64\n",
      "MB_MENSUALES                            float64\n",
      "EDAD                                    float64\n",
      "NUM_LLAMADAS_RED_PROPIA                 float64\n",
      "FACTURACION_TOTAL_SIN_IMPUESTOS         float64\n",
      "NUM_LINEAS_PRIN_POSPAGO                   int64\n",
      "NUM_LINEAS_POSPAGO                        int64\n",
      "NUM_LINEAS_FIJAS                          int64\n",
      "NUM_DIAS_CONVERGENTE                      int64\n",
      "NUM_LINEAS_FIJAS_POSPAGO                  int64\n",
      "NUM_SERVICIOS_POSPAGO                     int64\n",
      "DIAS_PRIMERA_CUENTA                       int64\n",
      "NUM_CANCELACIONES                         int64\n",
      "LLAMADAS_MOVILES                        float64\n",
      "NUM_LINEAS_POSPAGO_TOTAL                  int64\n",
      "TERMINO_FACTURACION                     float64\n",
      "NUM_DESACTIVACIONES_FIJAS_POSPAGO         int64\n",
      "NUM_DESACTIVACIONES_FIJAS                 int64\n",
      "NUM_LINEAS_TECNOLOGIA_DESCONOCIDA         int64\n",
      "NUM_DIAS_ACTIVO                         float64\n",
      "MINUTOS_LLAMADAS_MENSUALES              float64\n",
      "NUM_DIAS_BUNDLE                           int64\n",
      "KPI_IMPUESTOS                           float64\n",
      "NUM_DESACTIVACIONES                       int64\n",
      "PORCENTAJE_SEGUNDOS_RED_PROPIA          float64\n",
      "SERVICIOS_TOTALES_MARCA                   int64\n",
      "SERVICIOS_TOTALES_POSPAGO                 int64\n",
      "MINUTOS_LLAMADAS_MOVIL                  float64\n",
      "PENETRACION_FIJO_ZONA                   float64\n",
      "TARGET                                    int64\n",
      "dtype: object\n"
     ]
    }
   ],
   "source": [
    "if __name__ == \"__main__\":\n",
    "    df = read_csv('./caso_final_small_20k_con_mes.csv')\n",
    "    count_off_nulls(df)\n",
    "    replace_null_with_zero(df)\n",
    "    count_off_nulls(df)\n",
    "    column_type_display(df)\n",
    "    column_parsing(df)\n",
    "    column_type_display(df)\n"
   ]
  },
  {
   "cell_type": "markdown",
   "metadata": {},
   "source": [
    "# Bibliografía\n",
    "\n",
    "### column_parsing:\n",
    "\n",
    " - [Float Python](https://ellibrodepython.com/float-python)\n",
    " \n",
    " - [Evitar notación científica](https://es.stackoverflow.com/questions/533263/como-imprimir-cifras-completas-en-un-dataframe-que-no-aparezca-el)\n"
   ]
  }
 ],
 "metadata": {
  "kernelspec": {
   "display_name": "base",
   "language": "python",
   "name": "python3"
  },
  "language_info": {
   "codemirror_mode": {
    "name": "ipython",
    "version": 3
   },
   "file_extension": ".py",
   "mimetype": "text/x-python",
   "name": "python",
   "nbconvert_exporter": "python",
   "pygments_lexer": "ipython3",
   "version": "3.11.5"
  }
 },
 "nbformat": 4,
 "nbformat_minor": 2
}
