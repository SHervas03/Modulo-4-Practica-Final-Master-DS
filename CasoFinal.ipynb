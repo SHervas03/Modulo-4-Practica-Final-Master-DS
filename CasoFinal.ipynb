{
 "cells": [
  {
   "cell_type": "markdown",
   "metadata": {},
   "source": [
    "# Practica Final\n",
    "Modulo 4 - Máster Data Science y Business Analytics\n",
    "Sergio Hervás Aragón"
   ]
  },
  {
   "cell_type": "markdown",
   "metadata": {},
   "source": [
    "### Librerías"
   ]
  },
  {
   "cell_type": "code",
   "execution_count": 42,
   "metadata": {},
   "outputs": [],
   "source": [
    "# Tratamiento de datos\n",
    "# ==============================================================================\n",
    "import numpy as np\n",
    "import pandas as pd\n",
    "\n",
    "import matplotlib.pyplot as plt\n",
    "\n",
    "# Preprocesado\n",
    "# ==============================================================================\n",
    "from sklearn.impute import KNNImputer\n",
    "\n",
    "import missingno as msno # librería para tratamiento de datos perdidos"
   ]
  },
  {
   "cell_type": "markdown",
   "metadata": {},
   "source": [
    "### Carga de datos"
   ]
  },
  {
   "cell_type": "code",
   "execution_count": 2,
   "metadata": {},
   "outputs": [],
   "source": [
    "def read_csv(file, sep):\n",
    "    # Declaración de una variable, la que se encargara de guardar nuestros registros\n",
    "    df = []\n",
    "    try:\n",
    "        # Lectura de nuestro fichero\n",
    "        df = pd.read_csv(file, sep=sep)\n",
    "    except FileNotFoundError:\n",
    "        # Excepción en caso de no ser el archivo encontrado por la ruta ofrecida\n",
    "        raise ValueError('Archivo no encontrado')\n",
    "    except Exception as e:\n",
    "        # Excepción genérica en caso de que haya otro problema\n",
    "        raise ValueError(f'Error: {e}')\n",
    "    finally:\n",
    "        print('Proceso de lectura finalizado')\n",
    "    return df"
   ]
  },
  {
   "cell_type": "markdown",
   "metadata": {},
   "source": [
    "### Descripción y Análisis"
   ]
  },
  {
   "cell_type": "code",
   "execution_count": 45,
   "metadata": {},
   "outputs": [],
   "source": [
    "def description_and_analysis(df):\n",
    "    print(f'\\nDescripción de la tabla de la tabla:\\n {df.describe()}')\n",
    "    print('\\nInformación de la tabla de la tabla:\\n ')\n",
    "    print(f'{df.info()}')\n",
    "    msno.matrix(df)\n",
    "    plt.title('Valores faltantes en cada columna')\n"
   ]
  },
  {
   "cell_type": "markdown",
   "metadata": {},
   "source": [
    "### Tratamiento de nulos mediante imputación"
   ]
  },
  {
   "cell_type": "code",
   "execution_count": null,
   "metadata": {},
   "outputs": [],
   "source": [
    "def null_value_treatment(df):\n",
    "    # https://cesarquezadab.com/2021/09/19/guia-sobre-tecnicas-de-imputacion-de-datos-con-python/\n",
    "    # Documentación vista en clase (Clasificación_Titanic.ipynb)\n",
    "    imputer = KNNImputer(n_neighbors=5)\n",
    "    df = pd.DataFrame(imputer.fit_transform(df), columns=df.columns)"
   ]
  },
  {
   "cell_type": "markdown",
   "metadata": {},
   "source": [
    "### Outliers"
   ]
  },
  {
   "cell_type": "code",
   "execution_count": null,
   "metadata": {},
   "outputs": [],
   "source": []
  },
  {
   "cell_type": "markdown",
   "metadata": {},
   "source": [
    "## Analisis exploratorio"
   ]
  },
  {
   "cell_type": "markdown",
   "metadata": {},
   "source": [
    "### Conteo de Nulos"
   ]
  },
  {
   "cell_type": "code",
   "execution_count": 4,
   "metadata": {},
   "outputs": [],
   "source": [
    "def count_off_nulls(df):\n",
    "    print('\\nConteo de nulos por columnas:')\n",
    "    # Variable que nos servira para verificar si hay o no valores nulos\n",
    "    null_validator = True\n",
    "    # Bucle donde se recorren las columnas una a una\n",
    "    for column in df.columns:\n",
    "        null_count = df[column].isnull().sum()\n",
    "        # Si existen nulos, imprimir el resultaso de la columna con nulos\n",
    "        if null_count != 0:\n",
    "            null_validator = False\n",
    "            print(f' - {column} | tiene {null_count} nulos')\n",
    "    # Comprobador de valores nulos final\n",
    "    if not null_validator:\n",
    "        print('\\nHay valores nulos en el DataFrame')\n",
    "        null_validator = True\n",
    "    else:\n",
    "        print(' - No hay nulos en el DataFrame')"
   ]
  },
  {
   "cell_type": "markdown",
   "metadata": {},
   "source": [
    "### Reemplazo de nulos por 0:\n",
    "Tras la exploración de los datos con los que vamos a trabajar, al ser de tipo numérico, se opta por el reemplazo de estos por un valor numérico, de tal manera que no se borre ningún dato, pero que a su vez no cuente para el análisis"
   ]
  },
  {
   "cell_type": "code",
   "execution_count": 5,
   "metadata": {},
   "outputs": [],
   "source": [
    "def replace_null_with_zero(df):\n",
    "    print('\\nReemplazo de NULL´s por 0')\n",
    "    # Reemplazo de valores nulos por 0\n",
    "    df.fillna(0, inplace=True)"
   ]
  },
  {
   "cell_type": "markdown",
   "metadata": {},
   "source": [
    "### Resumen estadístico de variables"
   ]
  },
  {
   "cell_type": "code",
   "execution_count": 6,
   "metadata": {},
   "outputs": [],
   "source": [
    "def variable_summary(df):\n",
    "    print(df.describe())"
   ]
  },
  {
   "cell_type": "markdown",
   "metadata": {},
   "source": [
    "### Transformación de datos de float a date\n",
    "\n",
    "Tras la visualización de los datos, se opta por un parseo de la columna 'MES' a date para un mejor tratamiento de datos"
   ]
  },
  {
   "cell_type": "code",
   "execution_count": 7,
   "metadata": {},
   "outputs": [],
   "source": [
    "def parse_column_year(df):\n",
    "    df['MES'] = df['MES'].astype(str)\n",
    "    df['MES'] = pd.to_datetime(df['MES'], format='%Y%m')\n",
    "    return df"
   ]
  },
  {
   "cell_type": "code",
   "execution_count": 51,
   "metadata": {},
   "outputs": [
    {
     "name": "stdout",
     "output_type": "stream",
     "text": [
      "Proceso de lectura finalizado\n",
      "                 MES     MB_TOTALES  FACTURACION_TOTAL_IMPUESTOS  \\\n",
      "count   20000.000000   19741.000000                 19924.000000   \n",
      "mean   201948.470400   12307.320625                    40.939452   \n",
      "std        49.255692   20115.499610                    30.326117   \n",
      "min    201901.000000       0.000000                    -0.002000   \n",
      "25%    201905.000000    1929.673340                    24.999000   \n",
      "50%    201911.000000    5931.522949                    33.004000   \n",
      "75%    202005.000000   16013.454310                    50.124250   \n",
      "max    202011.000000  853613.593750                  1246.438000   \n",
      "\n",
      "       FACTURACION_CUOTA  SEGUNDOS_LLAMADA_RED_PROPIA  \\\n",
      "count       19924.000000                 19843.000000   \n",
      "mean           25.179305                 19282.843471   \n",
      "std            13.067181                 31773.406451   \n",
      "min             0.000000                     0.000000   \n",
      "25%            15.700000                  1777.000000   \n",
      "50%            23.969999                  8011.000000   \n",
      "75%            26.460000                 23009.500000   \n",
      "max           133.890000                584239.000000   \n",
      "\n",
      "       SEGUNDOS_LLAMADA_SALIENTE_RED_PROPIA  \\\n",
      "count                          19843.000000   \n",
      "mean                           10334.947941   \n",
      "std                            18971.928733   \n",
      "min                                0.000000   \n",
      "25%                              705.500000   \n",
      "50%                             3631.000000   \n",
      "75%                            11846.500000   \n",
      "max                           422724.000000   \n",
      "\n",
      "       SEGUNDOS_LLAMADA_ENTRANTE_RED_PROPIA   MB_MENSUALES          EDAD  \\\n",
      "count                          19843.000000   19749.000000  19971.000000   \n",
      "mean                              62.941239   12288.026161     43.990937   \n",
      "std                               93.528782   20112.795794     14.125926   \n",
      "min                                0.000000       0.000000     17.000000   \n",
      "25%                               11.000000    1915.529785     33.000000   \n",
      "50%                               36.000000    5898.413086     43.000000   \n",
      "75%                               82.000000   15967.201660     54.000000   \n",
      "max                             6220.000000  853613.593750     98.000000   \n",
      "\n",
      "       NUM_LLAMADAS_RED_PROPIA  ...  MINUTOS_LLAMADAS_MENSUALES  \\\n",
      "count             19843.000000  ...                19749.000000   \n",
      "mean                156.408456  ...                  361.817034   \n",
      "std                 227.913588  ...                  543.391221   \n",
      "min                   0.000000  ...                    0.000000   \n",
      "25%                  29.000000  ...                   64.999998   \n",
      "50%                  87.000000  ...                  178.966798   \n",
      "75%                 199.000000  ...                  443.583287   \n",
      "max               12497.000000  ...                12316.250395   \n",
      "\n",
      "       NUM_DIAS_BUNDLE  KPI_IMPUESTOS  NUM_DESACTIVACIONES  \\\n",
      "count     20000.000000   19924.000000          20000.00000   \n",
      "mean        148.792200       5.657482              0.00785   \n",
      "std         476.199046       3.552509              0.10435   \n",
      "min           0.000000      -1.190000              0.00000   \n",
      "25%           0.000000       3.297000              0.00000   \n",
      "50%           1.000000       5.034000              0.00000   \n",
      "75%           2.000000       6.768002              0.00000   \n",
      "max        4056.000000      93.483509              4.00000   \n",
      "\n",
      "       PORCENTAJE_SEGUNDOS_RED_PROPIA  SERVICIOS_TOTALES_MARCA  \\\n",
      "count                    19737.000000             20000.000000   \n",
      "mean                        99.975217                 1.432750   \n",
      "std                          1.284268                 0.756972   \n",
      "min                          0.000000                 1.000000   \n",
      "25%                        100.000000                 1.000000   \n",
      "50%                        100.000000                 1.000000   \n",
      "75%                        100.000000                 2.000000   \n",
      "max                        100.000000                 8.000000   \n",
      "\n",
      "       SERVICIOS_TOTALES_POSPAGO  MINUTOS_LLAMADAS_MOVIL  \\\n",
      "count               20000.000000            19918.000000   \n",
      "mean                    1.792750                0.913010   \n",
      "std                     1.329882               30.432569   \n",
      "min                     0.000000                0.000000   \n",
      "25%                     1.000000                0.000000   \n",
      "50%                     1.000000                0.000000   \n",
      "75%                     2.000000                0.000000   \n",
      "max                    18.000000             2089.316758   \n",
      "\n",
      "       PENETRACION_FIJO_ZONA        TARGET  \n",
      "count           18677.000000  20000.000000  \n",
      "mean                0.257017      0.311050  \n",
      "std                 0.073077      0.462935  \n",
      "min                 0.039562      0.000000  \n",
      "25%                 0.199451      0.000000  \n",
      "50%                 0.261877      0.000000  \n",
      "75%                 0.296955      1.000000  \n",
      "max                 0.380171      1.000000  \n",
      "\n",
      "[8 rows x 36 columns]\n"
     ]
    }
   ],
   "source": [
    "if __name__ == \"__main__\":\n",
    "    df = read_csv(file = './caso_final_small_20k_con_mes.csv', sep = ',')\n",
    "    description_and_analysis(df)\n",
    "    null_value_treatment(df)\n",
    "    # count_off_nulls(df)\n",
    "    # replace_null_with_zero(df)\n",
    "    # count_off_nulls(df)\n",
    "    # df = parse_column_year(df)\n",
    "    # column_type_display(df)\n",
    "    # variable_summary(df)\n"
   ]
  },
  {
   "cell_type": "markdown",
   "metadata": {},
   "source": [
    "# Bibliografía\n",
    "\n",
    "### column_parsing:\n",
    "\n",
    " - [Float Python](https://ellibrodepython.com/float-python)\n",
    " \n",
    " - [Evitar notación científica](https://es.stackoverflow.com/questions/533263/como-imprimir-cifras-completas-en-un-dataframe-que-no-aparezca-el)\n",
    "\n",
    " - [pandas.to_datetime](https://pandas.pydata.org/docs/reference/api/pandas.to_datetime.html)\n"
   ]
  }
 ],
 "metadata": {
  "kernelspec": {
   "display_name": "base",
   "language": "python",
   "name": "python3"
  },
  "language_info": {
   "codemirror_mode": {
    "name": "ipython",
    "version": 3
   },
   "file_extension": ".py",
   "mimetype": "text/x-python",
   "name": "python",
   "nbconvert_exporter": "python",
   "pygments_lexer": "ipython3",
   "version": "3.11.5"
  }
 },
 "nbformat": 4,
 "nbformat_minor": 2
}
